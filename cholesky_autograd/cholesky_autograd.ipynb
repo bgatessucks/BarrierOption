{
 "cells": [
  {
   "cell_type": "markdown",
   "metadata": {},
   "source": [
    "# Imports"
   ]
  },
  {
   "cell_type": "code",
   "execution_count": 1,
   "metadata": {
    "collapsed": true
   },
   "outputs": [],
   "source": [
    "import autograd.numpy as np\n",
    "from autograd import grad, elementwise_grad, jacobian"
   ]
  },
  {
   "cell_type": "code",
   "execution_count": 2,
   "metadata": {
    "collapsed": true
   },
   "outputs": [],
   "source": [
    "from matplotlib import pyplot as plt\n",
    "import seaborn as sns\n",
    "\n",
    "sns.set()\n",
    "%matplotlib inline"
   ]
  },
  {
   "cell_type": "code",
   "execution_count": 3,
   "metadata": {
    "collapsed": true
   },
   "outputs": [],
   "source": [
    "# import numpy as np\n",
    "from itertools import combinations as combi"
   ]
  },
  {
   "cell_type": "markdown",
   "metadata": {},
   "source": [
    "# Definitions"
   ]
  },
  {
   "cell_type": "code",
   "execution_count": 5,
   "metadata": {
    "collapsed": true
   },
   "outputs": [],
   "source": [
    "def msqrt_derivs(cov, n=100000, scale=None, tol=0.5e-15):\n",
    "    \"\"\"Calculate the square root of a symmetric matrix as well as the\n",
    "    derivatives of the square root with respect to individual coefficients\n",
    "    in cov.\n",
    "    The calculation is based on a series expansion assuming that ||cov|| < 1\n",
    "    Parameters\n",
    "    ----------\n",
    "    cov: np.ndarray[float] (m ,m)\n",
    "        symmetric matrix such that ||cov|| <= 1\n",
    "    n: integer (optional, default=100000)\n",
    "        number of terms in the expansion\n",
    "    scale: float (optional, default=None)\n",
    "        a scaling factor < 1 that be used to ensure convergence\n",
    "    \"\"\"\n",
    "    cov = np.array(cov, copy=True)\n",
    "    m = cov.shape[-1]\n",
    "    nderivs = int(m * (m - 1) / 2)\n",
    "    scale = float(2 * m) if scale is None else scale\n",
    "    sq_scale = np.sqrt(scale)\n",
    "    cov /= scale\n",
    "    v = np.eye(m, dtype=np.float64)\n",
    "    prev_v = np.array(v, copy=True)\n",
    "    a = cov - v\n",
    "    out = v.copy()\n",
    "    # for derivative calculation\n",
    "    out_deriv = np.zeros((nderivs, m, m), dtype=np.float64)\n",
    "    J = np.zeros((nderivs, m, m), dtype=np.float64)\n",
    "    for k, (row, col) in enumerate(combi(range(m), 2)):\n",
    "        J[k, [row, col], [col, row]] = 1.0\n",
    "    w = np.array(J, copy=True)\n",
    "    # convergence parameters\n",
    "    step = 50  # test convergence every `step`\n",
    "    prev_out = np.array(out, copy=True)\n",
    "    if n == 0:\n",
    "        return out, out_deriv\n",
    "    for k in range(1, n+1):\n",
    "        c = (3. - 2 * k)/(2. * k)\n",
    "        v = np.einsum(',ij,jk->ik', c, v, a)\n",
    "        if k > 1:\n",
    "            w = np.einsum(\n",
    "                ',uij,jk->uik', c, w, a)\n",
    "            np.add(\n",
    "                w, np.einsum(',ij,ujk->uik', c, prev_v, J), out=w)\n",
    "        else:\n",
    "            w *= c\n",
    "        out += v\n",
    "        out_deriv += w\n",
    "        if k % step == 0:\n",
    "            # check for convergence\n",
    "            norm = max(np.abs(out - prev_out).ravel())\n",
    "            if norm < tol:\n",
    "                break\n",
    "            prev_out = np.array(out, copy=True)\n",
    "        prev_v = np.array(v, copy=True)\n",
    "\n",
    "    return sq_scale * out, out_deriv / sq_scale\n",
    "\n",
    "# Edited by FS to be used with autograd: changed a few assignments, removed the\n",
    "# calculation of the derivarives\n",
    "def msqrt_derivs_fs(cov, n=100000, scale=None, tol=0.5e-15):\n",
    "    \"\"\"Calculate the square root of a symmetric matrix as well as the\n",
    "    derivatives of the square root with respect to individual coefficients\n",
    "    in cov.\n",
    "    The calculation is based on a series expansion assuming that ||cov|| < 1\n",
    "    Parameters\n",
    "    ----------\n",
    "    cov: np.ndarray[float] (m ,m)\n",
    "        symmetric matrix such that ||cov|| <= 1\n",
    "    n: integer (optional, default=100000)\n",
    "        number of terms in the expansion\n",
    "    scale: float (optional, default=None)\n",
    "        a scaling factor < 1 that be used to ensure convergence\n",
    "    \"\"\"\n",
    "    cov = np.array(cov, copy=True)\n",
    "    m = cov.shape[-1]\n",
    "    nderivs = int(m * (m - 1) / 2)\n",
    "    scale = float(2 * m) if scale is None else scale\n",
    "    sq_scale = np.sqrt(scale)\n",
    "    cov /= scale\n",
    "    v = np.eye(m, dtype=np.float64)\n",
    "    prev_v = np.array(v, copy=True)\n",
    "    a = cov - v\n",
    "    out = v.copy()\n",
    "    # for derivative calculation\n",
    "    out_deriv = np.zeros((nderivs, m, m), dtype=np.float64)\n",
    "    J = np.zeros((nderivs, m, m), dtype=np.float64)\n",
    "    for k, (row, col) in enumerate(combi(range(m), 2)):\n",
    "        J[k, [row, col], [col, row]] = 1.0\n",
    "    w = np.array(J, copy=True)\n",
    "    # convergence parameters\n",
    "    step = 50  # test convergence every `step`\n",
    "    prev_out = np.array(out, copy=True)\n",
    "    if n == 0:\n",
    "        return out, out_deriv\n",
    "    for k in range(1, n+1):\n",
    "        c = (3. - 2 * k)/(2. * k)\n",
    "        v = np.einsum(',ij,jk->ik', c, v, a)\n",
    "#         if k > 1:\n",
    "#             w = np.einsum(\n",
    "#                 ',uij,jk->uik', c, w, a)\n",
    "#             w = w + np.einsum(',ij,ujk->uik', c, prev_v, J)  # np.add(w, np.einsum(',ij,ujk->uik', c, prev_v, J), out=w)\n",
    "#         else:\n",
    "#             w = w * c  # w *= c\n",
    "        out = out + v  # out += v\n",
    "#         out_deriv = out_deriv + w  # out_deriv += w\n",
    "#         if k % step == 0:\n",
    "#             # check for convergence\n",
    "#             norm = max(np.abs(out - prev_out).ravel())\n",
    "#             if norm < tol:\n",
    "#                 break\n",
    "#             prev_out = np.array(out, copy=True)\n",
    "#         prev_v = np.array(v, copy=True)\n",
    "\n",
    "    return sq_scale * out  # , out_deriv / sq_scale\n",
    "\n",
    "def msqrt_only(args):\n",
    "    \n",
    "    cov = make_mat_2d(args)\n",
    "    \n",
    "    out = msqrt_derivs_fs(cov)\n",
    "    \n",
    "    return out\n",
    "\n",
    "def make_mat_2d(args):\n",
    "    \n",
    "    vol1, vol2, corr = args\n",
    "    \n",
    "    mat = np.array([[vol1 * vol1, corr * vol1 * vol2], [corr * vol1 * vol2, vol2 * vol2]])\n",
    "    \n",
    "    return mat\n",
    "\n",
    "def my_cholesky_2d_vec(args):\n",
    "\n",
    "    return np.linalg.cholesky(make_mat_2d(args))\n",
    "\n",
    "def my_cholesky_2d_tuple(args):\n",
    "\n",
    "    b = np.linalg.cholesky(make_mat_2d(args))\n",
    "    \n",
    "    b = tuple([tuple(_) for _ in b])\n",
    "    \n",
    "    return b"
   ]
  },
  {
   "cell_type": "code",
   "execution_count": null,
   "metadata": {
    "collapsed": true
   },
   "outputs": [],
   "source": []
  },
  {
   "cell_type": "markdown",
   "metadata": {},
   "source": [
    "# Example: n=2 full covariance (AI $\\neq$ autograd = WL)"
   ]
  },
  {
   "cell_type": "code",
   "execution_count": 32,
   "metadata": {
    "collapsed": true
   },
   "outputs": [],
   "source": [
    "params = np.array([0.22, 0.3, -0.98])\n",
    "\n",
    "mat = make_mat_2d(params)"
   ]
  },
  {
   "cell_type": "code",
   "execution_count": 33,
   "metadata": {},
   "outputs": [
    {
     "data": {
      "text/plain": [
       "array([[ 0.0484 , -0.06468],\n",
       "       [-0.06468,  0.09   ]])"
      ]
     },
     "execution_count": 33,
     "metadata": {},
     "output_type": "execute_result"
    }
   ],
   "source": [
    "mat"
   ]
  },
  {
   "cell_type": "code",
   "execution_count": 34,
   "metadata": {
    "collapsed": true
   },
   "outputs": [],
   "source": [
    "jac_mat = jacobian(make_mat_2d)(params)"
   ]
  },
  {
   "cell_type": "code",
   "execution_count": 35,
   "metadata": {},
   "outputs": [
    {
     "data": {
      "text/plain": [
       "array([[ 0.44 , -0.294],\n",
       "       [-0.294,  0.   ]])"
      ]
     },
     "execution_count": 35,
     "metadata": {},
     "output_type": "execute_result"
    }
   ],
   "source": [
    "jac_mat[:, :, 0]"
   ]
  },
  {
   "cell_type": "code",
   "execution_count": 36,
   "metadata": {},
   "outputs": [
    {
     "data": {
      "text/plain": [
       "array([[ 0.    , -0.2156],\n",
       "       [-0.2156,  0.6   ]])"
      ]
     },
     "execution_count": 36,
     "metadata": {},
     "output_type": "execute_result"
    }
   ],
   "source": [
    "jac_mat[:, :, 1]"
   ]
  },
  {
   "cell_type": "code",
   "execution_count": 37,
   "metadata": {},
   "outputs": [
    {
     "data": {
      "text/plain": [
       "array([[ 0.   ,  0.066],\n",
       "       [ 0.066,  0.   ]])"
      ]
     },
     "execution_count": 37,
     "metadata": {},
     "output_type": "execute_result"
    }
   ],
   "source": [
    "jac_mat[:, :, 2]"
   ]
  },
  {
   "cell_type": "code",
   "execution_count": null,
   "metadata": {
    "collapsed": true
   },
   "outputs": [],
   "source": []
  },
  {
   "cell_type": "code",
   "execution_count": 40,
   "metadata": {
    "collapsed": true
   },
   "outputs": [],
   "source": [
    "out, derivs = msqrt_derivs(mat)"
   ]
  },
  {
   "cell_type": "code",
   "execution_count": 41,
   "metadata": {},
   "outputs": [
    {
     "data": {
      "text/plain": [
       "array([[ 0.15163861, -0.15939175],\n",
       "       [-0.15939175,  0.25415403]])"
      ]
     },
     "execution_count": 41,
     "metadata": {},
     "output_type": "execute_result"
    }
   ],
   "source": [
    "out"
   ]
  },
  {
   "cell_type": "code",
   "execution_count": 42,
   "metadata": {},
   "outputs": [
    {
     "data": {
      "text/plain": [
       "array([[ 7.60093716,  7.23121223],\n",
       "       [ 7.23121223,  4.53502782]])"
      ]
     },
     "execution_count": 42,
     "metadata": {},
     "output_type": "execute_result"
    }
   ],
   "source": [
    "derivs[0]"
   ]
  },
  {
   "cell_type": "code",
   "execution_count": 43,
   "metadata": {},
   "outputs": [
    {
     "data": {
      "text/plain": [
       "array([[ 0.15163861, -0.15939175],\n",
       "       [-0.15939175,  0.25415403]])"
      ]
     },
     "execution_count": 43,
     "metadata": {},
     "output_type": "execute_result"
    }
   ],
   "source": [
    "out_fs = msqrt_derivs_fs(mat)\n",
    "out_fs"
   ]
  },
  {
   "cell_type": "code",
   "execution_count": 44,
   "metadata": {},
   "outputs": [
    {
     "data": {
      "text/plain": [
       "array([[ 0.15163861, -0.15939175],\n",
       "       [-0.15939175,  0.25415403]])"
      ]
     },
     "execution_count": 44,
     "metadata": {},
     "output_type": "execute_result"
    }
   ],
   "source": [
    "msqrt_only(params)"
   ]
  },
  {
   "cell_type": "code",
   "execution_count": 45,
   "metadata": {
    "collapsed": true
   },
   "outputs": [],
   "source": [
    "d_fs = jacobian(msqrt_only)(params)"
   ]
  },
  {
   "cell_type": "code",
   "execution_count": 46,
   "metadata": {},
   "outputs": [
    {
     "data": {
      "text/plain": [
       "array([[ 0.97384673, -0.45377022],\n",
       "       [-0.45377022, -0.2845803 ]])"
      ]
     },
     "execution_count": 46,
     "metadata": {},
     "output_type": "execute_result"
    }
   ],
   "source": [
    "d_fs[:,:,0]"
   ]
  },
  {
   "cell_type": "code",
   "execution_count": 47,
   "metadata": {},
   "outputs": [
    {
     "data": {
      "text/plain": [
       "array([[-0.20869222, -0.19854101],\n",
       "       [-0.19854101,  1.05587231]])"
      ]
     },
     "execution_count": 47,
     "metadata": {},
     "output_type": "execute_result"
    }
   ],
   "source": [
    "d_fs[:,:,1]"
   ]
  },
  {
   "cell_type": "code",
   "execution_count": 48,
   "metadata": {},
   "outputs": [
    {
     "data": {
      "text/plain": [
       "array([[ 0.50166185,  0.47726001],\n",
       "       [ 0.47726001,  0.29931184]])"
      ]
     },
     "execution_count": 48,
     "metadata": {},
     "output_type": "execute_result"
    }
   ],
   "source": [
    "d_fs[:,:,2]"
   ]
  },
  {
   "cell_type": "code",
   "execution_count": 49,
   "metadata": {},
   "outputs": [
    {
     "data": {
      "text/plain": [
       "(2, 2, 3)"
      ]
     },
     "execution_count": 49,
     "metadata": {},
     "output_type": "execute_result"
    }
   ],
   "source": [
    "d_fs.shape"
   ]
  },
  {
   "cell_type": "markdown",
   "metadata": {},
   "source": [
    "# Example: n=2 pure correlation (AI = autograd = WL)"
   ]
  },
  {
   "cell_type": "code",
   "execution_count": 5,
   "metadata": {
    "collapsed": true
   },
   "outputs": [],
   "source": [
    "params = np.array([1., 1., -0.98])\n",
    "\n",
    "mat = make_mat_2d(params)"
   ]
  },
  {
   "cell_type": "code",
   "execution_count": 6,
   "metadata": {},
   "outputs": [
    {
     "data": {
      "text/plain": [
       "array([[ 1.  , -0.98],\n",
       "       [-0.98,  1.  ]])"
      ]
     },
     "execution_count": 6,
     "metadata": {},
     "output_type": "execute_result"
    }
   ],
   "source": [
    "mat"
   ]
  },
  {
   "cell_type": "code",
   "execution_count": 7,
   "metadata": {
    "collapsed": true
   },
   "outputs": [],
   "source": [
    "jac_mat = jacobian(make_mat_2d)(params)"
   ]
  },
  {
   "cell_type": "code",
   "execution_count": 8,
   "metadata": {},
   "outputs": [
    {
     "data": {
      "text/plain": [
       "array([[ 2.  , -0.98],\n",
       "       [-0.98,  0.  ]])"
      ]
     },
     "execution_count": 8,
     "metadata": {},
     "output_type": "execute_result"
    }
   ],
   "source": [
    "jac_mat[:, :, 0]"
   ]
  },
  {
   "cell_type": "code",
   "execution_count": 9,
   "metadata": {},
   "outputs": [
    {
     "data": {
      "text/plain": [
       "array([[ 0.  , -0.98],\n",
       "       [-0.98,  2.  ]])"
      ]
     },
     "execution_count": 9,
     "metadata": {},
     "output_type": "execute_result"
    }
   ],
   "source": [
    "jac_mat[:, :, 1]"
   ]
  },
  {
   "cell_type": "code",
   "execution_count": 10,
   "metadata": {},
   "outputs": [
    {
     "data": {
      "text/plain": [
       "array([[ 0.,  1.],\n",
       "       [ 1.,  0.]])"
      ]
     },
     "execution_count": 10,
     "metadata": {},
     "output_type": "execute_result"
    }
   ],
   "source": [
    "jac_mat[:, :, 2]"
   ]
  },
  {
   "cell_type": "code",
   "execution_count": 17,
   "metadata": {
    "collapsed": true
   },
   "outputs": [],
   "source": [
    "out, derivs = msqrt_derivs(mat)"
   ]
  },
  {
   "cell_type": "code",
   "execution_count": 18,
   "metadata": {},
   "outputs": [
    {
     "data": {
      "text/plain": [
       "array([[ 0.77427304, -0.63285169],\n",
       "       [-0.63285169,  0.77427304]])"
      ]
     },
     "execution_count": 18,
     "metadata": {},
     "output_type": "execute_result"
    }
   ],
   "source": [
    "out"
   ]
  },
  {
   "cell_type": "code",
   "execution_count": 19,
   "metadata": {},
   "outputs": [
    {
     "data": {
      "text/plain": [
       "array([[ 1.59009969,  1.94543422],\n",
       "       [ 1.94543422,  1.59009969]])"
      ]
     },
     "execution_count": 19,
     "metadata": {},
     "output_type": "execute_result"
    }
   ],
   "source": [
    "derivs[0]"
   ]
  },
  {
   "cell_type": "code",
   "execution_count": 20,
   "metadata": {},
   "outputs": [
    {
     "data": {
      "text/plain": [
       "array([[ 0.77427304, -0.63285169],\n",
       "       [-0.63285169,  0.77427304]])"
      ]
     },
     "execution_count": 20,
     "metadata": {},
     "output_type": "execute_result"
    }
   ],
   "source": [
    "out_fs = msqrt_derivs_fs(mat)\n",
    "out_fs"
   ]
  },
  {
   "cell_type": "code",
   "execution_count": 21,
   "metadata": {},
   "outputs": [
    {
     "data": {
      "text/plain": [
       "array([[ 0.77427304, -0.63285169],\n",
       "       [-0.63285169,  0.77427304]])"
      ]
     },
     "execution_count": 21,
     "metadata": {},
     "output_type": "execute_result"
    }
   ],
   "source": [
    "msqrt_only(params)"
   ]
  },
  {
   "cell_type": "code",
   "execution_count": 22,
   "metadata": {
    "collapsed": true
   },
   "outputs": [],
   "source": [
    "d_fs = jacobian(msqrt_only)(params)"
   ]
  },
  {
   "cell_type": "code",
   "execution_count": 23,
   "metadata": {},
   "outputs": [
    {
     "data": {
      "text/plain": [
       "array([[ 1.03290355, -0.31642584],\n",
       "       [-0.31642584, -0.25863051]])"
      ]
     },
     "execution_count": 23,
     "metadata": {},
     "output_type": "execute_result"
    }
   ],
   "source": [
    "d_fs[:, :, 0]"
   ]
  },
  {
   "cell_type": "code",
   "execution_count": 24,
   "metadata": {},
   "outputs": [
    {
     "data": {
      "text/plain": [
       "array([[-0.25863051, -0.31642584],\n",
       "       [-0.31642584,  1.03290355]])"
      ]
     },
     "execution_count": 24,
     "metadata": {},
     "output_type": "execute_result"
    }
   ],
   "source": [
    "d_fs[:, :, 1]"
   ]
  },
  {
   "cell_type": "code",
   "execution_count": 25,
   "metadata": {},
   "outputs": [
    {
     "data": {
      "text/plain": [
       "array([[ 1.59009969,  1.94543422],\n",
       "       [ 1.94543422,  1.59009969]])"
      ]
     },
     "execution_count": 25,
     "metadata": {},
     "output_type": "execute_result"
    }
   ],
   "source": [
    "d_fs[:, :, 2]"
   ]
  },
  {
   "cell_type": "code",
   "execution_count": 26,
   "metadata": {
    "collapsed": true
   },
   "outputs": [],
   "source": [
    "shift = 1e-5\n",
    "\n",
    "params_shifted = np.array([1., 1., -0.98 + shift])"
   ]
  },
  {
   "cell_type": "code",
   "execution_count": 27,
   "metadata": {
    "collapsed": true
   },
   "outputs": [],
   "source": [
    "mat_shifted = make_mat_2d(params_shifted)"
   ]
  },
  {
   "cell_type": "code",
   "execution_count": 28,
   "metadata": {},
   "outputs": [
    {
     "data": {
      "text/plain": [
       "array([[ 1.     , -0.97999],\n",
       "       [-0.97999,  1.     ]])"
      ]
     },
     "execution_count": 28,
     "metadata": {},
     "output_type": "execute_result"
    }
   ],
   "source": [
    "mat_shifted"
   ]
  },
  {
   "cell_type": "code",
   "execution_count": 29,
   "metadata": {
    "collapsed": true
   },
   "outputs": [],
   "source": [
    "out_shifted, d_shifted = msqrt_derivs(mat_shifted)"
   ]
  },
  {
   "cell_type": "code",
   "execution_count": 30,
   "metadata": {},
   "outputs": [
    {
     "data": {
      "text/plain": [
       "array([[ 0.77428894, -0.63283223],\n",
       "       [-0.63283223,  0.77428894]])"
      ]
     },
     "execution_count": 30,
     "metadata": {},
     "output_type": "execute_result"
    }
   ],
   "source": [
    "out_shifted"
   ]
  },
  {
   "cell_type": "code",
   "execution_count": 31,
   "metadata": {},
   "outputs": [
    {
     "data": {
      "text/plain": [
       "array([[ 1.58987855,  1.94521353],\n",
       "       [ 1.94521353,  1.58987855]])"
      ]
     },
     "execution_count": 31,
     "metadata": {},
     "output_type": "execute_result"
    }
   ],
   "source": [
    "(out_shifted - out) / shift"
   ]
  },
  {
   "cell_type": "markdown",
   "metadata": {},
   "source": [
    "# Example n=4 pure correlation"
   ]
  },
  {
   "cell_type": "markdown",
   "metadata": {},
   "source": [
    "Using a correlation matrix, depending on a parameter $t \\in [-\\pi, \\pi]$, which is positive semi-definite by construction. The seed refers to the specific way the parameter $t$ is chosen. \n",
    "\n",
    "Not sure how to compare approaches. Below the comparison is between the norms of the derivative of the square root matrices. "
   ]
  },
  {
   "cell_type": "markdown",
   "metadata": {},
   "source": [
    "## seed=130"
   ]
  },
  {
   "cell_type": "markdown",
   "metadata": {},
   "source": [
    "![](corr_130.png)"
   ]
  },
  {
   "cell_type": "code",
   "execution_count": 6,
   "metadata": {
    "collapsed": true
   },
   "outputs": [],
   "source": [
    "def corr_mat_130(t):\n",
    "\n",
    "    out = np.array([ [ np.cos(1)**2+np.cos(1)**2*np.sin(1)**2+np.cos(1)**2*np.sin(1)**4+np.sin(1)**6, np.cos(1)**2+-1*np.cos(1)**2*np.sin(1)**2+np.cos(1)*np.cos(0.95+-0.97*1+t)*np.sin(1)**4+np.sin(1)**5*np.sin(0.95+-0.97*1+t), np.cos(1)**2+-1*np.cos(1)*np.cos(t)*np.sin(1)**2+-1*np.cos(1)*np.cos(t)*np.sin(1)**3*np.sin(t)+np.sin(1)**4*np.sin(t)**2, np.cos(1)**2+np.cos(1)**2*np.sin(1)**2+-1*np.cos(1)**2*np.sin(1)**4+-1*np.sin(1)**6 ], [ np.cos(1)**2+-1*np.cos(1)**2*np.sin(1)**2+np.cos(1)*np.cos(0.95+-0.97*1+t)*np.sin(1)**4+np.sin(1)**5*np.sin(0.95+-0.97*1+t), np.cos(1)**2+np.cos(1)**2*np.sin(1)**2+np.cos(0.95+-0.97*1+t)**2*np.sin(1)**4+np.sin(1)**4*np.sin(0.95+-0.97*1+t)**2, np.cos(1)**2+np.cos(1)*np.cos(t)*np.sin(1)**2+-1*np.cos(t)*np.cos(0.95+-0.97*1+t)*np.sin(1)**3*np.sin(t)+np.sin(1)**3*np.sin(t)**2*np.sin(0.95+-0.97*1+t), np.cos(1)**2+-1*np.cos(1)**2*np.sin(1)**2+-1*np.cos(1)*np.cos(0.95+-0.97*1+t)*np.sin(1)**4+-1*np.sin(1)**5*np.sin(0.95+-0.97*1+t) ], [ np.cos(1)**2+-1*np.cos(1)*np.cos(t)*np.sin(1)**2+-1*np.cos(1)*np.cos(t)*np.sin(1)**3*np.sin(t)+np.sin(1)**4*np.sin(t)**2, np.cos(1)**2+np.cos(1)*np.cos(t)*np.sin(1)**2+-1*np.cos(t)*np.cos(0.95+-0.97*1+t)*np.sin(1)**3*np.sin(t)+np.sin(1)**3*np.sin(t)**2*np.sin(0.95+-0.97*1+t), np.cos(1)**2+np.cos(t)**2*np.sin(1)**2+np.cos(t)**2*np.sin(1)**2*np.sin(t)**2+np.sin(1)**2*np.sin(t)**4, np.cos(1)**2+-1*np.cos(1)*np.cos(t)*np.sin(1)**2+np.cos(1)*np.cos(t)*np.sin(1)**3*np.sin(t)+-1*np.sin(1)**4*np.sin(t)**2 ], [ np.cos(1)**2+np.cos(1)**2*np.sin(1)**2+-1*np.cos(1)**2*np.sin(1)**4+-1*np.sin(1)**6, np.cos(1)**2+-1*np.cos(1)**2*np.sin(1)**2+-1*np.cos(1)*np.cos(0.95+-0.97*1+t)*np.sin(1)**4+-1*np.sin(1)**5*np.sin(0.95+-0.97*1+t), np.cos(1)**2+-1*np.cos(1)*np.cos(t)*np.sin(1)**2+np.cos(1)*np.cos(t)*np.sin(1)**3*np.sin(t)+-1*np.sin(1)**4*np.sin(t)**2, np.cos(1)**2+np.cos(1)**2*np.sin(1)**2+np.cos(1)**2*np.sin(1)**4+np.sin(1)**6 ] ])\n",
    "    return out\n"
   ]
  },
  {
   "cell_type": "code",
   "execution_count": 7,
   "metadata": {
    "collapsed": true
   },
   "outputs": [],
   "source": [
    "def b_130(t):\n",
    "    \n",
    "    return np.linalg.cholesky(corr_mat_130(t))"
   ]
  },
  {
   "cell_type": "code",
   "execution_count": 8,
   "metadata": {
    "collapsed": true
   },
   "outputs": [],
   "source": [
    "def cont_130(t):\n",
    "    \n",
    "    return np.linalg.norm(b_130(t))"
   ]
  },
  {
   "cell_type": "code",
   "execution_count": 9,
   "metadata": {},
   "outputs": [
    {
     "data": {
      "image/png": "[encoded data removed]",
      "text/plain": [
       "<matplotlib.figure.Figure at 0x9692cf8>"
      ]
     },
     "metadata": {},
     "output_type": "display_data"
    }
   ],
   "source": [
    "plt.figure()\n",
    "\n",
    "x_data = np.linspace(-np.pi, np.pi, 100)\n",
    "y_data = [np.linalg.det(corr_mat_130(_)) for _ in x_data]\n",
    "\n",
    "plt.plot(x_data, y_data)\n",
    "plt.xlabel('t')\n",
    "plt.legend(['Det'])\n",
    "plt.title('corr_mat_130')\n",
    "plt.show()"
   ]
  },
  {
   "cell_type": "code",
   "execution_count": 37,
   "metadata": {},
   "outputs": [
    {
     "data": {
      "image/png": "[encoded data removed]",
      "text/plain": [
       "<matplotlib.figure.Figure at 0x23787400>"
      ]
     },
     "metadata": {},
     "output_type": "display_data"
    }
   ],
   "source": [
    "plt.figure()\n",
    "\n",
    "x_data = np.linspace(-np.pi, np.pi, 100)\n",
    "y_data = [np.linalg.norm(np.linalg.cholesky(corr_mat_130(_))) for _ in x_data]\n",
    "\n",
    "x_data_ai = np.linspace(-np.pi, np.pi, 100)\n",
    "y_data_ai = [np.linalg.norm(msqrt_derivs_fs(corr_mat_130(_))) for _ in x_data_ai]\n",
    "\n",
    "plt.plot(x_data, y_data)\n",
    "plt.plot(x_data_ai, y_data_ai)\n",
    "plt.xlabel('t')\n",
    "plt.legend(['Norm(b)', 'Norm(b_ai)'])\n",
    "plt.title('corr_mat_130')\n",
    "plt.show()"
   ]
  },
  {
   "cell_type": "markdown",
   "metadata": {},
   "source": [
    "This shows the norm of the derivative of the square root matrix.\n",
    "__The calculation of each derivative of 'msqrt' via autograd takes order 5 minutes__. "
   ]
  },
  {
   "cell_type": "code",
   "execution_count": 32,
   "metadata": {},
   "outputs": [
    {
     "data": {
      "image/png": "[encoded data removed]",
      "text/plain": [
       "<matplotlib.figure.Figure at 0x1fafcb70>"
      ]
     },
     "metadata": {},
     "output_type": "display_data"
    }
   ],
   "source": [
    "plt.figure()\n",
    "\n",
    "x_data = np.linspace(-np.pi, np.pi, 100)\n",
    "y_data = [cont_130(elementwise_grad(b_130)(_)) for _ in x_data]\n",
    "\n",
    "x_data_ai = np.linspace(-np.pi, np.pi, 10)\n",
    "y_data_ai = [np.linalg.norm(jacobian(lambda t: msqrt_derivs_fs(corr_mat_130(t)))(_)) for _ in x_data_ai]\n",
    "\n",
    "plt.plot(x_data, y_data)\n",
    "plt.plot(x_data_ai, y_data_ai)\n",
    "plt.xlabel('t')\n",
    "plt.legend(['Norm(db/dt)', 'Norm(db_ai/dt)'])\n",
    "plt.title('corr_mat_130')\n",
    "plt.show()"
   ]
  },
  {
   "cell_type": "code",
   "execution_count": 29,
   "metadata": {
    "collapsed": true
   },
   "outputs": [],
   "source": [
    "xxx = jacobian(lambda t: msqrt_derivs_fs(corr_mat_130(t)))(-np.pi)"
   ]
  },
  {
   "cell_type": "code",
   "execution_count": 31,
   "metadata": {},
   "outputs": [
    {
     "data": {
      "text/plain": [
       "0.86960212168369799"
      ]
     },
     "execution_count": 31,
     "metadata": {},
     "output_type": "execute_result"
    }
   ],
   "source": [
    "np.linalg.norm(xxx)"
   ]
  },
  {
   "cell_type": "code",
   "execution_count": null,
   "metadata": {
    "collapsed": true
   },
   "outputs": [],
   "source": []
  }
 ],
 "metadata": {
  "kernelspec": {
   "display_name": "Python 3",
   "language": "python",
   "name": "python3"
  },
  "language_info": {
   "codemirror_mode": {
    "name": "ipython",
    "version": 3
   },
   "file_extension": ".py",
   "mimetype": "text/x-python",
   "name": "python",
   "nbconvert_exporter": "python",
   "pygments_lexer": "ipython3",
   "version": "3.6.2"
  }
 },
 "nbformat": 4,
 "nbformat_minor": 2
}
